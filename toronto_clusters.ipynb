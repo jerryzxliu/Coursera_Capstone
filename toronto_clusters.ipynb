{
 "cells": [
  {
   "cell_type": "markdown",
   "metadata": {},
   "source": [
    "### 1. Web Scraping and Saving to DataFrame"
   ]
  },
  {
   "cell_type": "markdown",
   "metadata": {},
   "source": [
    "Import libraries."
   ]
  },
  {
   "cell_type": "code",
   "execution_count": 32,
   "metadata": {},
   "outputs": [],
   "source": [
    "import pandas as pd\n",
    "import numpy as np\n",
    "\n",
    "# For scraping\n",
    "import requests\n",
    "from bs4 import BeautifulSoup"
   ]
  },
  {
   "cell_type": "markdown",
   "metadata": {},
   "source": [
    "Get data from Wikipedia."
   ]
  },
  {
   "cell_type": "code",
   "execution_count": 33,
   "metadata": {},
   "outputs": [],
   "source": [
    "url = 'http://en.wikipedia.org/wiki/List_of_postal_codes_of_Canada:_M'\n",
    "result = requests.get(url)"
   ]
  },
  {
   "cell_type": "markdown",
   "metadata": {},
   "source": [
    "Find the table with the neighborhood data."
   ]
  },
  {
   "cell_type": "code",
   "execution_count": 34,
   "metadata": {},
   "outputs": [],
   "source": [
    "soup = BeautifulSoup(result.content, 'lxml')\n",
    "table = soup.find('table')"
   ]
  },
  {
   "cell_type": "markdown",
   "metadata": {},
   "source": [
    "Read table into Pandas DataFrame."
   ]
  },
  {
   "cell_type": "code",
   "execution_count": 35,
   "metadata": {},
   "outputs": [
    {
     "data": {
      "text/html": [
       "<div>\n",
       "<style scoped>\n",
       "    .dataframe tbody tr th:only-of-type {\n",
       "        vertical-align: middle;\n",
       "    }\n",
       "\n",
       "    .dataframe tbody tr th {\n",
       "        vertical-align: top;\n",
       "    }\n",
       "\n",
       "    .dataframe thead th {\n",
       "        text-align: right;\n",
       "    }\n",
       "</style>\n",
       "<table border=\"1\" class=\"dataframe\">\n",
       "  <thead>\n",
       "    <tr style=\"text-align: right;\">\n",
       "      <th></th>\n",
       "      <th>Postcode</th>\n",
       "      <th>Borough</th>\n",
       "      <th>Neighborhood</th>\n",
       "    </tr>\n",
       "  </thead>\n",
       "  <tbody>\n",
       "    <tr>\n",
       "      <th>0</th>\n",
       "      <td>M1A</td>\n",
       "      <td>Not assigned</td>\n",
       "      <td>Not assigned</td>\n",
       "    </tr>\n",
       "    <tr>\n",
       "      <th>1</th>\n",
       "      <td>M2A</td>\n",
       "      <td>Not assigned</td>\n",
       "      <td>Not assigned</td>\n",
       "    </tr>\n",
       "    <tr>\n",
       "      <th>2</th>\n",
       "      <td>M3A</td>\n",
       "      <td>North York</td>\n",
       "      <td>Parkwoods</td>\n",
       "    </tr>\n",
       "    <tr>\n",
       "      <th>3</th>\n",
       "      <td>M4A</td>\n",
       "      <td>North York</td>\n",
       "      <td>Victoria Village</td>\n",
       "    </tr>\n",
       "    <tr>\n",
       "      <th>4</th>\n",
       "      <td>M5A</td>\n",
       "      <td>Downtown Toronto</td>\n",
       "      <td>Harbourfront</td>\n",
       "    </tr>\n",
       "  </tbody>\n",
       "</table>\n",
       "</div>"
      ],
      "text/plain": [
       "  Postcode           Borough      Neighborhood\n",
       "0      M1A      Not assigned      Not assigned\n",
       "1      M2A      Not assigned      Not assigned\n",
       "2      M3A        North York         Parkwoods\n",
       "3      M4A        North York  Victoria Village\n",
       "4      M5A  Downtown Toronto      Harbourfront"
      ]
     },
     "execution_count": 35,
     "metadata": {},
     "output_type": "execute_result"
    }
   ],
   "source": [
    "df = pd.read_html(str(table))[0]\n",
    "df.head()"
   ]
  },
  {
   "cell_type": "markdown",
   "metadata": {},
   "source": [
    "### 2. Data Wrangling"
   ]
  },
  {
   "cell_type": "markdown",
   "metadata": {},
   "source": [
    "1. remove rows with \"Not assigned\" borough"
   ]
  },
  {
   "cell_type": "code",
   "execution_count": 36,
   "metadata": {},
   "outputs": [],
   "source": [
    "df = df[df['Borough'] != 'Not assigned']"
   ]
  },
  {
   "cell_type": "markdown",
   "metadata": {},
   "source": [
    "2. assign neighborhood with \"Not assigned\" to be the borough"
   ]
  },
  {
   "cell_type": "code",
   "execution_count": 38,
   "metadata": {},
   "outputs": [],
   "source": [
    "df.loc[df['Neighborhood'] == 'Not assigned', 'Neighborhood'] = df.loc[df['Neighborhood'] == 'Not assigned', 'Borough']"
   ]
  },
  {
   "cell_type": "markdown",
   "metadata": {},
   "source": [
    "3. group by postcode and borough so we can add neighborhoods together"
   ]
  },
  {
   "cell_type": "code",
   "execution_count": 39,
   "metadata": {},
   "outputs": [],
   "source": [
    "df = df.groupby(['Postcode', 'Borough']).agg({'Neighborhood': lambda x: ', '.join(x)}).reset_index()"
   ]
  },
  {
   "cell_type": "markdown",
   "metadata": {},
   "source": [
    "Now we can inspect data."
   ]
  },
  {
   "cell_type": "code",
   "execution_count": 43,
   "metadata": {},
   "outputs": [
    {
     "data": {
      "text/html": [
       "<div>\n",
       "<style scoped>\n",
       "    .dataframe tbody tr th:only-of-type {\n",
       "        vertical-align: middle;\n",
       "    }\n",
       "\n",
       "    .dataframe tbody tr th {\n",
       "        vertical-align: top;\n",
       "    }\n",
       "\n",
       "    .dataframe thead th {\n",
       "        text-align: right;\n",
       "    }\n",
       "</style>\n",
       "<table border=\"1\" class=\"dataframe\">\n",
       "  <thead>\n",
       "    <tr style=\"text-align: right;\">\n",
       "      <th></th>\n",
       "      <th>Postcode</th>\n",
       "      <th>Borough</th>\n",
       "      <th>Neighborhood</th>\n",
       "    </tr>\n",
       "  </thead>\n",
       "  <tbody>\n",
       "    <tr>\n",
       "      <th>0</th>\n",
       "      <td>M1B</td>\n",
       "      <td>Scarborough</td>\n",
       "      <td>Rouge, Malvern</td>\n",
       "    </tr>\n",
       "    <tr>\n",
       "      <th>1</th>\n",
       "      <td>M1C</td>\n",
       "      <td>Scarborough</td>\n",
       "      <td>Highland Creek, Rouge Hill, Port Union</td>\n",
       "    </tr>\n",
       "    <tr>\n",
       "      <th>2</th>\n",
       "      <td>M1E</td>\n",
       "      <td>Scarborough</td>\n",
       "      <td>Guildwood, Morningside, West Hill</td>\n",
       "    </tr>\n",
       "    <tr>\n",
       "      <th>3</th>\n",
       "      <td>M1G</td>\n",
       "      <td>Scarborough</td>\n",
       "      <td>Woburn</td>\n",
       "    </tr>\n",
       "    <tr>\n",
       "      <th>4</th>\n",
       "      <td>M1H</td>\n",
       "      <td>Scarborough</td>\n",
       "      <td>Cedarbrae</td>\n",
       "    </tr>\n",
       "  </tbody>\n",
       "</table>\n",
       "</div>"
      ],
      "text/plain": [
       "  Postcode      Borough                            Neighborhood\n",
       "0      M1B  Scarborough                          Rouge, Malvern\n",
       "1      M1C  Scarborough  Highland Creek, Rouge Hill, Port Union\n",
       "2      M1E  Scarborough       Guildwood, Morningside, West Hill\n",
       "3      M1G  Scarborough                                  Woburn\n",
       "4      M1H  Scarborough                               Cedarbrae"
      ]
     },
     "execution_count": 43,
     "metadata": {},
     "output_type": "execute_result"
    }
   ],
   "source": [
    "df.head(5)"
   ]
  },
  {
   "cell_type": "code",
   "execution_count": 44,
   "metadata": {},
   "outputs": [
    {
     "data": {
      "text/plain": [
       "(103, 3)"
      ]
     },
     "execution_count": 44,
     "metadata": {},
     "output_type": "execute_result"
    }
   ],
   "source": [
    "df.shape"
   ]
  },
  {
   "cell_type": "markdown",
   "metadata": {},
   "source": [
    "### 3. Adding Lat/Long"
   ]
  },
  {
   "cell_type": "markdown",
   "metadata": {},
   "source": [
    "Unfortunately I'm not able to have the following run successfully to get the LatLng data."
   ]
  },
  {
   "cell_type": "code",
   "execution_count": 49,
   "metadata": {},
   "outputs": [],
   "source": [
    "# import geocoder # import geocoder\n",
    "#\n",
    "# for i, row in df.iterrows():\n",
    "#     # initialize your variable to None\n",
    "#     lat_lng_coords = None\n",
    "\n",
    "#     # loop until you get the coordinates\n",
    "#     while(lat_lng_coords is None):\n",
    "#       g = geocoder.google('{}, Toronto, Ontario'.format(row['Postcode']))\n",
    "#       lat_lng_coords = g.latlng\n",
    "\n",
    "#     latitude = lat_lng_coords[0]\n",
    "#     longitude = lat_lng_coords[1]\n",
    "    \n",
    "#     df.at[i, 'Latitude'] = latitude\n",
    "#     df.at[i, 'Longitude'] = longitude"
   ]
  },
  {
   "cell_type": "markdown",
   "metadata": {},
   "source": [
    "Thus I use the CSV instead:"
   ]
  },
  {
   "cell_type": "code",
   "execution_count": 53,
   "metadata": {},
   "outputs": [
    {
     "data": {
      "text/html": [
       "<div>\n",
       "<style scoped>\n",
       "    .dataframe tbody tr th:only-of-type {\n",
       "        vertical-align: middle;\n",
       "    }\n",
       "\n",
       "    .dataframe tbody tr th {\n",
       "        vertical-align: top;\n",
       "    }\n",
       "\n",
       "    .dataframe thead th {\n",
       "        text-align: right;\n",
       "    }\n",
       "</style>\n",
       "<table border=\"1\" class=\"dataframe\">\n",
       "  <thead>\n",
       "    <tr style=\"text-align: right;\">\n",
       "      <th></th>\n",
       "      <th>Postcode</th>\n",
       "      <th>Latitude</th>\n",
       "      <th>Longitude</th>\n",
       "    </tr>\n",
       "  </thead>\n",
       "  <tbody>\n",
       "    <tr>\n",
       "      <th>0</th>\n",
       "      <td>M1B</td>\n",
       "      <td>43.806686</td>\n",
       "      <td>-79.194353</td>\n",
       "    </tr>\n",
       "    <tr>\n",
       "      <th>1</th>\n",
       "      <td>M1C</td>\n",
       "      <td>43.784535</td>\n",
       "      <td>-79.160497</td>\n",
       "    </tr>\n",
       "    <tr>\n",
       "      <th>2</th>\n",
       "      <td>M1E</td>\n",
       "      <td>43.763573</td>\n",
       "      <td>-79.188711</td>\n",
       "    </tr>\n",
       "    <tr>\n",
       "      <th>3</th>\n",
       "      <td>M1G</td>\n",
       "      <td>43.770992</td>\n",
       "      <td>-79.216917</td>\n",
       "    </tr>\n",
       "    <tr>\n",
       "      <th>4</th>\n",
       "      <td>M1H</td>\n",
       "      <td>43.773136</td>\n",
       "      <td>-79.239476</td>\n",
       "    </tr>\n",
       "  </tbody>\n",
       "</table>\n",
       "</div>"
      ],
      "text/plain": [
       "  Postcode   Latitude  Longitude\n",
       "0      M1B  43.806686 -79.194353\n",
       "1      M1C  43.784535 -79.160497\n",
       "2      M1E  43.763573 -79.188711\n",
       "3      M1G  43.770992 -79.216917\n",
       "4      M1H  43.773136 -79.239476"
      ]
     },
     "execution_count": 53,
     "metadata": {},
     "output_type": "execute_result"
    }
   ],
   "source": [
    "latlng_df = pd.read_csv('Geospatial_Coordinates.csv')\n",
    "latlng_df.rename(columns = {'Postal Code': 'Postcode'}, inplace=True)\n",
    "latlng_df.head()"
   ]
  },
  {
   "cell_type": "code",
   "execution_count": 57,
   "metadata": {},
   "outputs": [],
   "source": [
    "df_with_latlng = pd.merge(df, latlng_df, on='Postcode')"
   ]
  },
  {
   "cell_type": "code",
   "execution_count": 59,
   "metadata": {},
   "outputs": [
    {
     "data": {
      "text/html": [
       "<div>\n",
       "<style scoped>\n",
       "    .dataframe tbody tr th:only-of-type {\n",
       "        vertical-align: middle;\n",
       "    }\n",
       "\n",
       "    .dataframe tbody tr th {\n",
       "        vertical-align: top;\n",
       "    }\n",
       "\n",
       "    .dataframe thead th {\n",
       "        text-align: right;\n",
       "    }\n",
       "</style>\n",
       "<table border=\"1\" class=\"dataframe\">\n",
       "  <thead>\n",
       "    <tr style=\"text-align: right;\">\n",
       "      <th></th>\n",
       "      <th>Postcode</th>\n",
       "      <th>Borough</th>\n",
       "      <th>Neighborhood</th>\n",
       "      <th>Latitude</th>\n",
       "      <th>Longitude</th>\n",
       "    </tr>\n",
       "  </thead>\n",
       "  <tbody>\n",
       "    <tr>\n",
       "      <th>0</th>\n",
       "      <td>M1B</td>\n",
       "      <td>Scarborough</td>\n",
       "      <td>Rouge, Malvern</td>\n",
       "      <td>43.806686</td>\n",
       "      <td>-79.194353</td>\n",
       "    </tr>\n",
       "    <tr>\n",
       "      <th>1</th>\n",
       "      <td>M1C</td>\n",
       "      <td>Scarborough</td>\n",
       "      <td>Highland Creek, Rouge Hill, Port Union</td>\n",
       "      <td>43.784535</td>\n",
       "      <td>-79.160497</td>\n",
       "    </tr>\n",
       "    <tr>\n",
       "      <th>2</th>\n",
       "      <td>M1E</td>\n",
       "      <td>Scarborough</td>\n",
       "      <td>Guildwood, Morningside, West Hill</td>\n",
       "      <td>43.763573</td>\n",
       "      <td>-79.188711</td>\n",
       "    </tr>\n",
       "    <tr>\n",
       "      <th>3</th>\n",
       "      <td>M1G</td>\n",
       "      <td>Scarborough</td>\n",
       "      <td>Woburn</td>\n",
       "      <td>43.770992</td>\n",
       "      <td>-79.216917</td>\n",
       "    </tr>\n",
       "    <tr>\n",
       "      <th>4</th>\n",
       "      <td>M1H</td>\n",
       "      <td>Scarborough</td>\n",
       "      <td>Cedarbrae</td>\n",
       "      <td>43.773136</td>\n",
       "      <td>-79.239476</td>\n",
       "    </tr>\n",
       "  </tbody>\n",
       "</table>\n",
       "</div>"
      ],
      "text/plain": [
       "  Postcode      Borough                            Neighborhood   Latitude  \\\n",
       "0      M1B  Scarborough                          Rouge, Malvern  43.806686   \n",
       "1      M1C  Scarborough  Highland Creek, Rouge Hill, Port Union  43.784535   \n",
       "2      M1E  Scarborough       Guildwood, Morningside, West Hill  43.763573   \n",
       "3      M1G  Scarborough                                  Woburn  43.770992   \n",
       "4      M1H  Scarborough                               Cedarbrae  43.773136   \n",
       "\n",
       "   Longitude  \n",
       "0 -79.194353  \n",
       "1 -79.160497  \n",
       "2 -79.188711  \n",
       "3 -79.216917  \n",
       "4 -79.239476  "
      ]
     },
     "execution_count": 59,
     "metadata": {},
     "output_type": "execute_result"
    }
   ],
   "source": [
    "df_with_latlng.head()"
   ]
  },
  {
   "cell_type": "markdown",
   "metadata": {},
   "source": [
    "### 4. Explore and Cluster Neighbourhoods in Toronto"
   ]
  },
  {
   "cell_type": "markdown",
   "metadata": {},
   "source": [
    "As suggested by the author, we will only work with boroughs with the word \"Toronto\" in it:"
   ]
  },
  {
   "cell_type": "code",
   "execution_count": 64,
   "metadata": {},
   "outputs": [],
   "source": [
    "final_df = df_with_latlng[df_with_latlng['Borough'].str.contains('Toronto')]"
   ]
  },
  {
   "cell_type": "markdown",
   "metadata": {},
   "source": [
    "#### Define Foursquare Credentials"
   ]
  },
  {
   "cell_type": "code",
   "execution_count": 69,
   "metadata": {},
   "outputs": [],
   "source": [
    "LIMIT = 100\n",
    "CLIENT_ID = 'WBYOCNNVXWVIKV1LE3WN4NX5LTHGX1IMWBV5N5DYQKAQW3ZG' # your Foursquare ID\n",
    "CLIENT_SECRET = 'VPUNU044Q0WOIVOTPGN3ZI42ISIOGSVX4P12KNH2AWUPMWFA' # your Foursquare Secret\n",
    "VERSION = '20180605' # Foursquare API version"
   ]
  },
  {
   "cell_type": "markdown",
   "metadata": {},
   "source": [
    "#### Borrowing the function to repeat the fetching process to all the neighborhoods in Toronto"
   ]
  },
  {
   "cell_type": "code",
   "execution_count": 70,
   "metadata": {},
   "outputs": [],
   "source": [
    "def getNearbyVenues(names, latitudes, longitudes, radius=500):\n",
    "    \n",
    "    venues_list=[]\n",
    "    for name, lat, lng in zip(names, latitudes, longitudes):\n",
    "        print(name)\n",
    "            \n",
    "        # create the API request URL\n",
    "        url = 'https://api.foursquare.com/v2/venues/explore?&client_id={}&client_secret={}&v={}&ll={},{}&radius={}&limit={}'.format(\n",
    "            CLIENT_ID, \n",
    "            CLIENT_SECRET, \n",
    "            VERSION, \n",
    "            lat, \n",
    "            lng, \n",
    "            radius, \n",
    "            LIMIT)\n",
    "            \n",
    "        # make the GET request\n",
    "        results = requests.get(url).json()[\"response\"]['groups'][0]['items']\n",
    "        \n",
    "        # return only relevant information for each nearby venue\n",
    "        venues_list.append([(\n",
    "            name, \n",
    "            lat, \n",
    "            lng, \n",
    "            v['venue']['name'], \n",
    "            v['venue']['location']['lat'], \n",
    "            v['venue']['location']['lng'],  \n",
    "            v['venue']['categories'][0]['name']) for v in results])\n",
    "\n",
    "    nearby_venues = pd.DataFrame([item for venue_list in venues_list for item in venue_list])\n",
    "    nearby_venues.columns = ['Neighborhood', \n",
    "                  'Neighborhood Latitude', \n",
    "                  'Neighborhood Longitude', \n",
    "                  'Venue', \n",
    "                  'Venue Latitude', \n",
    "                  'Venue Longitude', \n",
    "                  'Venue Category']\n",
    "    \n",
    "    return(nearby_venues)"
   ]
  },
  {
   "cell_type": "code",
   "execution_count": 71,
   "metadata": {},
   "outputs": [
    {
     "name": "stdout",
     "output_type": "stream",
     "text": [
      "The Beaches\n",
      "The Danforth West, Riverdale\n",
      "The Beaches West, India Bazaar\n",
      "Studio District\n",
      "Lawrence Park\n",
      "Davisville North\n",
      "North Toronto West\n",
      "Davisville\n",
      "Moore Park, Summerhill East\n",
      "Deer Park, Forest Hill SE, Rathnelly, South Hill, Summerhill West\n",
      "Rosedale\n",
      "Cabbagetown, St. James Town\n",
      "Church and Wellesley\n",
      "Harbourfront\n",
      "Ryerson, Garden District\n",
      "St. James Town\n",
      "Berczy Park\n",
      "Central Bay Street\n",
      "Adelaide, King, Richmond\n",
      "Harbourfront East, Toronto Islands, Union Station\n",
      "Design Exchange, Toronto Dominion Centre\n",
      "Commerce Court, Victoria Hotel\n",
      "Roselawn\n",
      "Forest Hill North, Forest Hill West\n",
      "The Annex, North Midtown, Yorkville\n",
      "Harbord, University of Toronto\n",
      "Chinatown, Grange Park, Kensington Market\n",
      "CN Tower, Bathurst Quay, Island airport, Harbourfront West, King and Spadina, Railway Lands, South Niagara\n",
      "Stn A PO Boxes 25 The Esplanade\n",
      "First Canadian Place, Underground city\n",
      "Christie\n",
      "Dovercourt Village, Dufferin\n",
      "Little Portugal, Trinity\n",
      "Brockton, Exhibition Place, Parkdale Village\n",
      "High Park, The Junction South\n",
      "Parkdale, Roncesvalles\n",
      "Runnymede, Swansea\n",
      "Queen's Park\n",
      "Business Reply Mail Processing Centre 969 Eastern\n"
     ]
    }
   ],
   "source": [
    "toronto_venues = getNearbyVenues(names=final_df['Neighborhood'],\n",
    "                                   latitudes=final_df['Latitude'],\n",
    "                                   longitudes=final_df['Longitude']\n",
    "                                  )"
   ]
  },
  {
   "cell_type": "code",
   "execution_count": 119,
   "metadata": {},
   "outputs": [
    {
     "data": {
      "text/html": [
       "<div>\n",
       "<style scoped>\n",
       "    .dataframe tbody tr th:only-of-type {\n",
       "        vertical-align: middle;\n",
       "    }\n",
       "\n",
       "    .dataframe tbody tr th {\n",
       "        vertical-align: top;\n",
       "    }\n",
       "\n",
       "    .dataframe thead th {\n",
       "        text-align: right;\n",
       "    }\n",
       "</style>\n",
       "<table border=\"1\" class=\"dataframe\">\n",
       "  <thead>\n",
       "    <tr style=\"text-align: right;\">\n",
       "      <th></th>\n",
       "      <th>Neighborhood</th>\n",
       "      <th>Neighborhood Latitude</th>\n",
       "      <th>Neighborhood Longitude</th>\n",
       "      <th>Venue</th>\n",
       "      <th>Venue Latitude</th>\n",
       "      <th>Venue Longitude</th>\n",
       "      <th>Venue Category</th>\n",
       "    </tr>\n",
       "  </thead>\n",
       "  <tbody>\n",
       "    <tr>\n",
       "      <th>110</th>\n",
       "      <td>Lawrence Park</td>\n",
       "      <td>43.72802</td>\n",
       "      <td>-79.38879</td>\n",
       "      <td>Zodiac Swim School</td>\n",
       "      <td>43.728532</td>\n",
       "      <td>-79.38286</td>\n",
       "      <td>Swim School</td>\n",
       "    </tr>\n",
       "  </tbody>\n",
       "</table>\n",
       "</div>"
      ],
      "text/plain": [
       "      Neighborhood  Neighborhood Latitude  Neighborhood Longitude  \\\n",
       "110  Lawrence Park               43.72802               -79.38879   \n",
       "\n",
       "                  Venue  Venue Latitude  Venue Longitude Venue Category  \n",
       "110  Zodiac Swim School       43.728532        -79.38286    Swim School  "
      ]
     },
     "execution_count": 119,
     "metadata": {},
     "output_type": "execute_result"
    }
   ],
   "source": [
    "toronto_venues[toronto_venues['Venue Category'].str.contains('School')]"
   ]
  },
  {
   "cell_type": "markdown",
   "metadata": {},
   "source": [
    "#### Analyze Each Neighborhood"
   ]
  },
  {
   "cell_type": "code",
   "execution_count": 85,
   "metadata": {},
   "outputs": [],
   "source": [
    "# one hot encoding\n",
    "toronto_onehot = pd.get_dummies(toronto_venues[['Venue Category']], prefix=\"\", prefix_sep=\"\")\n",
    "\n",
    "# add neighborhood column back to dataframe\n",
    "toronto_onehot['Neighborhood'] = toronto_venues['Neighborhood'] \n",
    "\n",
    "# generate new columns\n",
    "new_columns = []\n",
    "for col in toronto_onehot.columns:\n",
    "    if col == 'Neighborhood':\n",
    "        new_columns.insert(0, col)\n",
    "    else:\n",
    "        new_columns.append(col)\n",
    "\n",
    "# move neighborhood column to the first column\n",
    "toronto_onehot = toronto_onehot[new_columns]"
   ]
  },
  {
   "cell_type": "code",
   "execution_count": 87,
   "metadata": {},
   "outputs": [
    {
     "data": {
      "text/plain": [
       "(1716, 240)"
      ]
     },
     "execution_count": 87,
     "metadata": {},
     "output_type": "execute_result"
    }
   ],
   "source": [
    "toronto_onehot.shape"
   ]
  },
  {
   "cell_type": "markdown",
   "metadata": {},
   "source": [
    "#### Next, let's group rows by neighborhood and by taking the mean of the frequency of occurrence of each category"
   ]
  },
  {
   "cell_type": "code",
   "execution_count": 88,
   "metadata": {},
   "outputs": [],
   "source": [
    "toronto_grouped = toronto_onehot.groupby('Neighborhood').mean().reset_index()"
   ]
  },
  {
   "cell_type": "code",
   "execution_count": 120,
   "metadata": {},
   "outputs": [
    {
     "data": {
      "text/html": [
       "<div>\n",
       "<style scoped>\n",
       "    .dataframe tbody tr th:only-of-type {\n",
       "        vertical-align: middle;\n",
       "    }\n",
       "\n",
       "    .dataframe tbody tr th {\n",
       "        vertical-align: top;\n",
       "    }\n",
       "\n",
       "    .dataframe thead th {\n",
       "        text-align: right;\n",
       "    }\n",
       "</style>\n",
       "<table border=\"1\" class=\"dataframe\">\n",
       "  <thead>\n",
       "    <tr style=\"text-align: right;\">\n",
       "      <th></th>\n",
       "      <th>Neighborhood</th>\n",
       "      <th>Afghan Restaurant</th>\n",
       "      <th>Airport</th>\n",
       "      <th>Airport Food Court</th>\n",
       "      <th>Airport Gate</th>\n",
       "      <th>Airport Lounge</th>\n",
       "      <th>Airport Service</th>\n",
       "      <th>Airport Terminal</th>\n",
       "      <th>American Restaurant</th>\n",
       "      <th>Antique Shop</th>\n",
       "      <th>...</th>\n",
       "      <th>Toy / Game Store</th>\n",
       "      <th>Trail</th>\n",
       "      <th>Train Station</th>\n",
       "      <th>Vegetarian / Vegan Restaurant</th>\n",
       "      <th>Video Game Store</th>\n",
       "      <th>Vietnamese Restaurant</th>\n",
       "      <th>Wine Bar</th>\n",
       "      <th>Wine Shop</th>\n",
       "      <th>Women's Store</th>\n",
       "      <th>Yoga Studio</th>\n",
       "    </tr>\n",
       "  </thead>\n",
       "  <tbody>\n",
       "    <tr>\n",
       "      <th>0</th>\n",
       "      <td>Adelaide, King, Richmond</td>\n",
       "      <td>0.0</td>\n",
       "      <td>0.000000</td>\n",
       "      <td>0.000000</td>\n",
       "      <td>0.000000</td>\n",
       "      <td>0.000000</td>\n",
       "      <td>0.000000</td>\n",
       "      <td>0.000000</td>\n",
       "      <td>0.02</td>\n",
       "      <td>0.0</td>\n",
       "      <td>...</td>\n",
       "      <td>0.0</td>\n",
       "      <td>0.0</td>\n",
       "      <td>0.0</td>\n",
       "      <td>0.020000</td>\n",
       "      <td>0.0</td>\n",
       "      <td>0.0</td>\n",
       "      <td>0.0</td>\n",
       "      <td>0.0</td>\n",
       "      <td>0.01</td>\n",
       "      <td>0.000000</td>\n",
       "    </tr>\n",
       "    <tr>\n",
       "      <th>1</th>\n",
       "      <td>Berczy Park</td>\n",
       "      <td>0.0</td>\n",
       "      <td>0.000000</td>\n",
       "      <td>0.000000</td>\n",
       "      <td>0.000000</td>\n",
       "      <td>0.000000</td>\n",
       "      <td>0.000000</td>\n",
       "      <td>0.000000</td>\n",
       "      <td>0.00</td>\n",
       "      <td>0.0</td>\n",
       "      <td>...</td>\n",
       "      <td>0.0</td>\n",
       "      <td>0.0</td>\n",
       "      <td>0.0</td>\n",
       "      <td>0.018182</td>\n",
       "      <td>0.0</td>\n",
       "      <td>0.0</td>\n",
       "      <td>0.0</td>\n",
       "      <td>0.0</td>\n",
       "      <td>0.00</td>\n",
       "      <td>0.000000</td>\n",
       "    </tr>\n",
       "    <tr>\n",
       "      <th>2</th>\n",
       "      <td>Brockton, Exhibition Place, Parkdale Village</td>\n",
       "      <td>0.0</td>\n",
       "      <td>0.000000</td>\n",
       "      <td>0.000000</td>\n",
       "      <td>0.000000</td>\n",
       "      <td>0.000000</td>\n",
       "      <td>0.000000</td>\n",
       "      <td>0.000000</td>\n",
       "      <td>0.00</td>\n",
       "      <td>0.0</td>\n",
       "      <td>...</td>\n",
       "      <td>0.0</td>\n",
       "      <td>0.0</td>\n",
       "      <td>0.0</td>\n",
       "      <td>0.000000</td>\n",
       "      <td>0.0</td>\n",
       "      <td>0.0</td>\n",
       "      <td>0.0</td>\n",
       "      <td>0.0</td>\n",
       "      <td>0.00</td>\n",
       "      <td>0.045455</td>\n",
       "    </tr>\n",
       "    <tr>\n",
       "      <th>3</th>\n",
       "      <td>Business Reply Mail Processing Centre 969 Eastern</td>\n",
       "      <td>0.0</td>\n",
       "      <td>0.000000</td>\n",
       "      <td>0.000000</td>\n",
       "      <td>0.000000</td>\n",
       "      <td>0.000000</td>\n",
       "      <td>0.000000</td>\n",
       "      <td>0.000000</td>\n",
       "      <td>0.00</td>\n",
       "      <td>0.0</td>\n",
       "      <td>...</td>\n",
       "      <td>0.0</td>\n",
       "      <td>0.0</td>\n",
       "      <td>0.0</td>\n",
       "      <td>0.000000</td>\n",
       "      <td>0.0</td>\n",
       "      <td>0.0</td>\n",
       "      <td>0.0</td>\n",
       "      <td>0.0</td>\n",
       "      <td>0.00</td>\n",
       "      <td>0.000000</td>\n",
       "    </tr>\n",
       "    <tr>\n",
       "      <th>4</th>\n",
       "      <td>CN Tower, Bathurst Quay, Island airport, Harbo...</td>\n",
       "      <td>0.0</td>\n",
       "      <td>0.058824</td>\n",
       "      <td>0.058824</td>\n",
       "      <td>0.058824</td>\n",
       "      <td>0.117647</td>\n",
       "      <td>0.176471</td>\n",
       "      <td>0.117647</td>\n",
       "      <td>0.00</td>\n",
       "      <td>0.0</td>\n",
       "      <td>...</td>\n",
       "      <td>0.0</td>\n",
       "      <td>0.0</td>\n",
       "      <td>0.0</td>\n",
       "      <td>0.000000</td>\n",
       "      <td>0.0</td>\n",
       "      <td>0.0</td>\n",
       "      <td>0.0</td>\n",
       "      <td>0.0</td>\n",
       "      <td>0.00</td>\n",
       "      <td>0.000000</td>\n",
       "    </tr>\n",
       "  </tbody>\n",
       "</table>\n",
       "<p>5 rows × 240 columns</p>\n",
       "</div>"
      ],
      "text/plain": [
       "                                        Neighborhood  Afghan Restaurant  \\\n",
       "0                           Adelaide, King, Richmond                0.0   \n",
       "1                                        Berczy Park                0.0   \n",
       "2       Brockton, Exhibition Place, Parkdale Village                0.0   \n",
       "3  Business Reply Mail Processing Centre 969 Eastern                0.0   \n",
       "4  CN Tower, Bathurst Quay, Island airport, Harbo...                0.0   \n",
       "\n",
       "    Airport  Airport Food Court  Airport Gate  Airport Lounge  \\\n",
       "0  0.000000            0.000000      0.000000        0.000000   \n",
       "1  0.000000            0.000000      0.000000        0.000000   \n",
       "2  0.000000            0.000000      0.000000        0.000000   \n",
       "3  0.000000            0.000000      0.000000        0.000000   \n",
       "4  0.058824            0.058824      0.058824        0.117647   \n",
       "\n",
       "   Airport Service  Airport Terminal  American Restaurant  Antique Shop  ...  \\\n",
       "0         0.000000          0.000000                 0.02           0.0  ...   \n",
       "1         0.000000          0.000000                 0.00           0.0  ...   \n",
       "2         0.000000          0.000000                 0.00           0.0  ...   \n",
       "3         0.000000          0.000000                 0.00           0.0  ...   \n",
       "4         0.176471          0.117647                 0.00           0.0  ...   \n",
       "\n",
       "   Toy / Game Store  Trail  Train Station  Vegetarian / Vegan Restaurant  \\\n",
       "0               0.0    0.0            0.0                       0.020000   \n",
       "1               0.0    0.0            0.0                       0.018182   \n",
       "2               0.0    0.0            0.0                       0.000000   \n",
       "3               0.0    0.0            0.0                       0.000000   \n",
       "4               0.0    0.0            0.0                       0.000000   \n",
       "\n",
       "   Video Game Store  Vietnamese Restaurant  Wine Bar  Wine Shop  \\\n",
       "0               0.0                    0.0       0.0        0.0   \n",
       "1               0.0                    0.0       0.0        0.0   \n",
       "2               0.0                    0.0       0.0        0.0   \n",
       "3               0.0                    0.0       0.0        0.0   \n",
       "4               0.0                    0.0       0.0        0.0   \n",
       "\n",
       "   Women's Store  Yoga Studio  \n",
       "0           0.01     0.000000  \n",
       "1           0.00     0.000000  \n",
       "2           0.00     0.045455  \n",
       "3           0.00     0.000000  \n",
       "4           0.00     0.000000  \n",
       "\n",
       "[5 rows x 240 columns]"
      ]
     },
     "execution_count": 120,
     "metadata": {},
     "output_type": "execute_result"
    }
   ],
   "source": [
    "toronto_grouped.head()"
   ]
  },
  {
   "cell_type": "markdown",
   "metadata": {},
   "source": [
    "#### Put 5 most common venues for each neighborhood into a dataframe"
   ]
  },
  {
   "cell_type": "code",
   "execution_count": 91,
   "metadata": {},
   "outputs": [],
   "source": [
    "def return_most_common_venues(row, num_top_venues):\n",
    "    row_categories = row.iloc[1:]\n",
    "    row_categories_sorted = row_categories.sort_values(ascending=False)\n",
    "    \n",
    "    return row_categories_sorted.index.values[0:num_top_venues]"
   ]
  },
  {
   "cell_type": "code",
   "execution_count": 92,
   "metadata": {},
   "outputs": [],
   "source": [
    "num_top_venues = 10\n",
    "\n",
    "indicators = ['st', 'nd', 'rd']\n",
    "\n",
    "# create columns according to number of top venues\n",
    "columns = ['Neighborhood']\n",
    "for ind in np.arange(num_top_venues):\n",
    "    try:\n",
    "        columns.append('{}{} Most Common Venue'.format(ind+1, indicators[ind]))\n",
    "    except:\n",
    "        columns.append('{}th Most Common Venue'.format(ind+1))\n",
    "\n",
    "# create a new dataframe\n",
    "neighborhoods_venues_sorted = pd.DataFrame(columns=columns)\n",
    "neighborhoods_venues_sorted['Neighborhood'] = toronto_grouped['Neighborhood']\n",
    "\n",
    "for ind in np.arange(toronto_grouped.shape[0]):\n",
    "    neighborhoods_venues_sorted.iloc[ind, 1:] = return_most_common_venues(toronto_grouped.iloc[ind, :], num_top_venues)"
   ]
  },
  {
   "cell_type": "code",
   "execution_count": 93,
   "metadata": {},
   "outputs": [
    {
     "data": {
      "text/html": [
       "<div>\n",
       "<style scoped>\n",
       "    .dataframe tbody tr th:only-of-type {\n",
       "        vertical-align: middle;\n",
       "    }\n",
       "\n",
       "    .dataframe tbody tr th {\n",
       "        vertical-align: top;\n",
       "    }\n",
       "\n",
       "    .dataframe thead th {\n",
       "        text-align: right;\n",
       "    }\n",
       "</style>\n",
       "<table border=\"1\" class=\"dataframe\">\n",
       "  <thead>\n",
       "    <tr style=\"text-align: right;\">\n",
       "      <th></th>\n",
       "      <th>Neighborhood</th>\n",
       "      <th>1st Most Common Venue</th>\n",
       "      <th>2nd Most Common Venue</th>\n",
       "      <th>3rd Most Common Venue</th>\n",
       "      <th>4th Most Common Venue</th>\n",
       "      <th>5th Most Common Venue</th>\n",
       "      <th>6th Most Common Venue</th>\n",
       "      <th>7th Most Common Venue</th>\n",
       "      <th>8th Most Common Venue</th>\n",
       "      <th>9th Most Common Venue</th>\n",
       "      <th>10th Most Common Venue</th>\n",
       "    </tr>\n",
       "  </thead>\n",
       "  <tbody>\n",
       "    <tr>\n",
       "      <th>0</th>\n",
       "      <td>Adelaide, King, Richmond</td>\n",
       "      <td>Coffee Shop</td>\n",
       "      <td>Café</td>\n",
       "      <td>Bar</td>\n",
       "      <td>Steakhouse</td>\n",
       "      <td>Burger Joint</td>\n",
       "      <td>Hotel</td>\n",
       "      <td>Sushi Restaurant</td>\n",
       "      <td>Clothing Store</td>\n",
       "      <td>Thai Restaurant</td>\n",
       "      <td>Asian Restaurant</td>\n",
       "    </tr>\n",
       "    <tr>\n",
       "      <th>1</th>\n",
       "      <td>Berczy Park</td>\n",
       "      <td>Coffee Shop</td>\n",
       "      <td>Cocktail Bar</td>\n",
       "      <td>Beer Bar</td>\n",
       "      <td>Bakery</td>\n",
       "      <td>Steakhouse</td>\n",
       "      <td>Seafood Restaurant</td>\n",
       "      <td>Cheese Shop</td>\n",
       "      <td>Café</td>\n",
       "      <td>Farmers Market</td>\n",
       "      <td>Irish Pub</td>\n",
       "    </tr>\n",
       "    <tr>\n",
       "      <th>2</th>\n",
       "      <td>Brockton, Exhibition Place, Parkdale Village</td>\n",
       "      <td>Café</td>\n",
       "      <td>Coffee Shop</td>\n",
       "      <td>Breakfast Spot</td>\n",
       "      <td>Yoga Studio</td>\n",
       "      <td>Stadium</td>\n",
       "      <td>Burrito Place</td>\n",
       "      <td>Restaurant</td>\n",
       "      <td>Climbing Gym</td>\n",
       "      <td>Pet Store</td>\n",
       "      <td>Bakery</td>\n",
       "    </tr>\n",
       "    <tr>\n",
       "      <th>3</th>\n",
       "      <td>Business Reply Mail Processing Centre 969 Eastern</td>\n",
       "      <td>Smoke Shop</td>\n",
       "      <td>Auto Workshop</td>\n",
       "      <td>Park</td>\n",
       "      <td>Pizza Place</td>\n",
       "      <td>Recording Studio</td>\n",
       "      <td>Restaurant</td>\n",
       "      <td>Burrito Place</td>\n",
       "      <td>Brewery</td>\n",
       "      <td>Skate Park</td>\n",
       "      <td>Light Rail Station</td>\n",
       "    </tr>\n",
       "    <tr>\n",
       "      <th>4</th>\n",
       "      <td>CN Tower, Bathurst Quay, Island airport, Harbo...</td>\n",
       "      <td>Airport Service</td>\n",
       "      <td>Airport Lounge</td>\n",
       "      <td>Airport Terminal</td>\n",
       "      <td>Harbor / Marina</td>\n",
       "      <td>Plane</td>\n",
       "      <td>Boutique</td>\n",
       "      <td>Boat or Ferry</td>\n",
       "      <td>Bar</td>\n",
       "      <td>Coffee Shop</td>\n",
       "      <td>Sculpture Garden</td>\n",
       "    </tr>\n",
       "  </tbody>\n",
       "</table>\n",
       "</div>"
      ],
      "text/plain": [
       "                                        Neighborhood 1st Most Common Venue  \\\n",
       "0                           Adelaide, King, Richmond           Coffee Shop   \n",
       "1                                        Berczy Park           Coffee Shop   \n",
       "2       Brockton, Exhibition Place, Parkdale Village                  Café   \n",
       "3  Business Reply Mail Processing Centre 969 Eastern            Smoke Shop   \n",
       "4  CN Tower, Bathurst Quay, Island airport, Harbo...       Airport Service   \n",
       "\n",
       "  2nd Most Common Venue 3rd Most Common Venue 4th Most Common Venue  \\\n",
       "0                  Café                   Bar            Steakhouse   \n",
       "1          Cocktail Bar              Beer Bar                Bakery   \n",
       "2           Coffee Shop        Breakfast Spot           Yoga Studio   \n",
       "3         Auto Workshop                  Park           Pizza Place   \n",
       "4        Airport Lounge      Airport Terminal       Harbor / Marina   \n",
       "\n",
       "  5th Most Common Venue 6th Most Common Venue 7th Most Common Venue  \\\n",
       "0          Burger Joint                 Hotel      Sushi Restaurant   \n",
       "1            Steakhouse    Seafood Restaurant           Cheese Shop   \n",
       "2               Stadium         Burrito Place            Restaurant   \n",
       "3      Recording Studio            Restaurant         Burrito Place   \n",
       "4                 Plane              Boutique         Boat or Ferry   \n",
       "\n",
       "  8th Most Common Venue 9th Most Common Venue 10th Most Common Venue  \n",
       "0        Clothing Store       Thai Restaurant       Asian Restaurant  \n",
       "1                  Café        Farmers Market              Irish Pub  \n",
       "2          Climbing Gym             Pet Store                 Bakery  \n",
       "3               Brewery            Skate Park     Light Rail Station  \n",
       "4                   Bar           Coffee Shop       Sculpture Garden  "
      ]
     },
     "execution_count": 93,
     "metadata": {},
     "output_type": "execute_result"
    }
   ],
   "source": [
    "neighborhoods_venues_sorted.head()"
   ]
  },
  {
   "cell_type": "markdown",
   "metadata": {},
   "source": [
    "#### Cluster the neighborhoods"
   ]
  },
  {
   "cell_type": "code",
   "execution_count": 95,
   "metadata": {},
   "outputs": [],
   "source": [
    "from sklearn.cluster import KMeans"
   ]
  },
  {
   "cell_type": "code",
   "execution_count": 96,
   "metadata": {},
   "outputs": [],
   "source": [
    "# set number of clusters\n",
    "kclusters = 5\n",
    "\n",
    "toronto_grouped_clustering = toronto_grouped.drop('Neighborhood', 1)\n",
    "\n",
    "# run k-means clustering\n",
    "kmeans = KMeans(n_clusters=kclusters, random_state=0).fit(toronto_grouped_clustering)"
   ]
  },
  {
   "cell_type": "code",
   "execution_count": 97,
   "metadata": {},
   "outputs": [],
   "source": [
    "# add clustering labels\n",
    "neighborhoods_venues_sorted.insert(0, 'Cluster Labels', kmeans.labels_)\n",
    "\n",
    "toronto_merged = final_df\n",
    "\n",
    "# merge toronto_grouped with toronto_data to add latitude/longitude for each neighborhood\n",
    "toronto_merged = toronto_merged.join(neighborhoods_venues_sorted.set_index('Neighborhood'), on='Neighborhood')"
   ]
  },
  {
   "cell_type": "code",
   "execution_count": 98,
   "metadata": {},
   "outputs": [
    {
     "data": {
      "text/html": [
       "<div>\n",
       "<style scoped>\n",
       "    .dataframe tbody tr th:only-of-type {\n",
       "        vertical-align: middle;\n",
       "    }\n",
       "\n",
       "    .dataframe tbody tr th {\n",
       "        vertical-align: top;\n",
       "    }\n",
       "\n",
       "    .dataframe thead th {\n",
       "        text-align: right;\n",
       "    }\n",
       "</style>\n",
       "<table border=\"1\" class=\"dataframe\">\n",
       "  <thead>\n",
       "    <tr style=\"text-align: right;\">\n",
       "      <th></th>\n",
       "      <th>Postcode</th>\n",
       "      <th>Borough</th>\n",
       "      <th>Neighborhood</th>\n",
       "      <th>Latitude</th>\n",
       "      <th>Longitude</th>\n",
       "      <th>Cluster Labels</th>\n",
       "      <th>1st Most Common Venue</th>\n",
       "      <th>2nd Most Common Venue</th>\n",
       "      <th>3rd Most Common Venue</th>\n",
       "      <th>4th Most Common Venue</th>\n",
       "      <th>5th Most Common Venue</th>\n",
       "      <th>6th Most Common Venue</th>\n",
       "      <th>7th Most Common Venue</th>\n",
       "      <th>8th Most Common Venue</th>\n",
       "      <th>9th Most Common Venue</th>\n",
       "      <th>10th Most Common Venue</th>\n",
       "    </tr>\n",
       "  </thead>\n",
       "  <tbody>\n",
       "    <tr>\n",
       "      <th>37</th>\n",
       "      <td>M4E</td>\n",
       "      <td>East Toronto</td>\n",
       "      <td>The Beaches</td>\n",
       "      <td>43.676357</td>\n",
       "      <td>-79.293031</td>\n",
       "      <td>0</td>\n",
       "      <td>Trail</td>\n",
       "      <td>Health Food Store</td>\n",
       "      <td>Pub</td>\n",
       "      <td>Electronics Store</td>\n",
       "      <td>Dog Run</td>\n",
       "      <td>Doner Restaurant</td>\n",
       "      <td>Donut Shop</td>\n",
       "      <td>Dumpling Restaurant</td>\n",
       "      <td>Eastern European Restaurant</td>\n",
       "      <td>Yoga Studio</td>\n",
       "    </tr>\n",
       "    <tr>\n",
       "      <th>41</th>\n",
       "      <td>M4K</td>\n",
       "      <td>East Toronto</td>\n",
       "      <td>The Danforth West, Riverdale</td>\n",
       "      <td>43.679557</td>\n",
       "      <td>-79.352188</td>\n",
       "      <td>1</td>\n",
       "      <td>Greek Restaurant</td>\n",
       "      <td>Coffee Shop</td>\n",
       "      <td>Italian Restaurant</td>\n",
       "      <td>Ice Cream Shop</td>\n",
       "      <td>Furniture / Home Store</td>\n",
       "      <td>Yoga Studio</td>\n",
       "      <td>Brewery</td>\n",
       "      <td>Sports Bar</td>\n",
       "      <td>Spa</td>\n",
       "      <td>Cosmetics Shop</td>\n",
       "    </tr>\n",
       "    <tr>\n",
       "      <th>42</th>\n",
       "      <td>M4L</td>\n",
       "      <td>East Toronto</td>\n",
       "      <td>The Beaches West, India Bazaar</td>\n",
       "      <td>43.668999</td>\n",
       "      <td>-79.315572</td>\n",
       "      <td>1</td>\n",
       "      <td>Park</td>\n",
       "      <td>Sandwich Place</td>\n",
       "      <td>Pet Store</td>\n",
       "      <td>Pub</td>\n",
       "      <td>Liquor Store</td>\n",
       "      <td>Burger Joint</td>\n",
       "      <td>Burrito Place</td>\n",
       "      <td>Fast Food Restaurant</td>\n",
       "      <td>Fish &amp; Chips Shop</td>\n",
       "      <td>Italian Restaurant</td>\n",
       "    </tr>\n",
       "    <tr>\n",
       "      <th>43</th>\n",
       "      <td>M4M</td>\n",
       "      <td>East Toronto</td>\n",
       "      <td>Studio District</td>\n",
       "      <td>43.659526</td>\n",
       "      <td>-79.340923</td>\n",
       "      <td>1</td>\n",
       "      <td>Café</td>\n",
       "      <td>Coffee Shop</td>\n",
       "      <td>Italian Restaurant</td>\n",
       "      <td>Bakery</td>\n",
       "      <td>Gastropub</td>\n",
       "      <td>American Restaurant</td>\n",
       "      <td>Brewery</td>\n",
       "      <td>Latin American Restaurant</td>\n",
       "      <td>Ice Cream Shop</td>\n",
       "      <td>Fish Market</td>\n",
       "    </tr>\n",
       "    <tr>\n",
       "      <th>44</th>\n",
       "      <td>M4N</td>\n",
       "      <td>Central Toronto</td>\n",
       "      <td>Lawrence Park</td>\n",
       "      <td>43.728020</td>\n",
       "      <td>-79.388790</td>\n",
       "      <td>3</td>\n",
       "      <td>Gym / Fitness Center</td>\n",
       "      <td>Park</td>\n",
       "      <td>Bus Line</td>\n",
       "      <td>Swim School</td>\n",
       "      <td>Dog Run</td>\n",
       "      <td>Fast Food Restaurant</td>\n",
       "      <td>Farmers Market</td>\n",
       "      <td>Falafel Restaurant</td>\n",
       "      <td>Event Space</td>\n",
       "      <td>Ethiopian Restaurant</td>\n",
       "    </tr>\n",
       "  </tbody>\n",
       "</table>\n",
       "</div>"
      ],
      "text/plain": [
       "   Postcode          Borough                    Neighborhood   Latitude  \\\n",
       "37      M4E     East Toronto                     The Beaches  43.676357   \n",
       "41      M4K     East Toronto    The Danforth West, Riverdale  43.679557   \n",
       "42      M4L     East Toronto  The Beaches West, India Bazaar  43.668999   \n",
       "43      M4M     East Toronto                 Studio District  43.659526   \n",
       "44      M4N  Central Toronto                   Lawrence Park  43.728020   \n",
       "\n",
       "    Longitude  Cluster Labels 1st Most Common Venue 2nd Most Common Venue  \\\n",
       "37 -79.293031               0                 Trail     Health Food Store   \n",
       "41 -79.352188               1      Greek Restaurant           Coffee Shop   \n",
       "42 -79.315572               1                  Park        Sandwich Place   \n",
       "43 -79.340923               1                  Café           Coffee Shop   \n",
       "44 -79.388790               3  Gym / Fitness Center                  Park   \n",
       "\n",
       "   3rd Most Common Venue 4th Most Common Venue   5th Most Common Venue  \\\n",
       "37                   Pub     Electronics Store                 Dog Run   \n",
       "41    Italian Restaurant        Ice Cream Shop  Furniture / Home Store   \n",
       "42             Pet Store                   Pub            Liquor Store   \n",
       "43    Italian Restaurant                Bakery               Gastropub   \n",
       "44              Bus Line           Swim School                 Dog Run   \n",
       "\n",
       "   6th Most Common Venue 7th Most Common Venue      8th Most Common Venue  \\\n",
       "37      Doner Restaurant            Donut Shop        Dumpling Restaurant   \n",
       "41           Yoga Studio               Brewery                 Sports Bar   \n",
       "42          Burger Joint         Burrito Place       Fast Food Restaurant   \n",
       "43   American Restaurant               Brewery  Latin American Restaurant   \n",
       "44  Fast Food Restaurant        Farmers Market         Falafel Restaurant   \n",
       "\n",
       "          9th Most Common Venue 10th Most Common Venue  \n",
       "37  Eastern European Restaurant            Yoga Studio  \n",
       "41                          Spa         Cosmetics Shop  \n",
       "42            Fish & Chips Shop     Italian Restaurant  \n",
       "43               Ice Cream Shop            Fish Market  \n",
       "44                  Event Space   Ethiopian Restaurant  "
      ]
     },
     "execution_count": 98,
     "metadata": {},
     "output_type": "execute_result"
    }
   ],
   "source": [
    "toronto_merged.head() # check the last columns!"
   ]
  },
  {
   "cell_type": "markdown",
   "metadata": {},
   "source": [
    "#### Finally, we can visualize the clusters"
   ]
  },
  {
   "cell_type": "code",
   "execution_count": 111,
   "metadata": {},
   "outputs": [],
   "source": [
    "import folium\n",
    "import matplotlib.cm as cm\n",
    "import matplotlib.colors as colors\n",
    "from geopy.geocoders import Nominatim"
   ]
  },
  {
   "cell_type": "code",
   "execution_count": 112,
   "metadata": {},
   "outputs": [
    {
     "name": "stdout",
     "output_type": "stream",
     "text": [
      "The geograpical coordinate of Toronto are 43.653963, -79.387207.\n"
     ]
    }
   ],
   "source": [
    "# Get Toronto lat long\n",
    "address = 'Toronto, ON'\n",
    "\n",
    "geolocator = Nominatim(user_agent=\"ny_explorer\")\n",
    "location = geolocator.geocode(address)\n",
    "latitude = location.latitude\n",
    "longitude = location.longitude\n",
    "print('The geograpical coordinate of Toronto are {}, {}.'.format(latitude, longitude))"
   ]
  },
  {
   "cell_type": "code",
   "execution_count": 113,
   "metadata": {},
   "outputs": [
    {
     "data": {
      "text/html": [
       "<div style=\"width:100%;\"><div style=\"position:relative;width:100%;height:0;padding-bottom:60%;\"><iframe src=\"data:text/html;charset=utf-8;base64,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\" style=\"position:absolute;width:100%;height:100%;left:0;top:0;border:none !important;\" allowfullscreen webkitallowfullscreen mozallowfullscreen></iframe></div></div>"
      ],
      "text/plain": [
       "<folium.folium.Map at 0x1235b1c10>"
      ]
     },
     "execution_count": 113,
     "metadata": {},
     "output_type": "execute_result"
    }
   ],
   "source": [
    "# create map\n",
    "map_clusters = folium.Map(location=[latitude, longitude], zoom_start=11)\n",
    "\n",
    "# set color scheme for the clusters\n",
    "x = np.arange(kclusters)\n",
    "ys = [i + x + (i*x)**2 for i in range(kclusters)]\n",
    "colors_array = cm.rainbow(np.linspace(0, 1, len(ys)))\n",
    "rainbow = [colors.rgb2hex(i) for i in colors_array]\n",
    "\n",
    "# add markers to the map\n",
    "markers_colors = []\n",
    "for lat, lon, poi, cluster in zip(toronto_merged['Latitude'], toronto_merged['Longitude'], toronto_merged['Neighborhood'], toronto_merged['Cluster Labels']):\n",
    "    label = folium.Popup(str(poi) + ' Cluster ' + str(cluster), parse_html=True)\n",
    "    folium.CircleMarker(\n",
    "        [lat, lon],\n",
    "        radius=5,\n",
    "        popup=label,\n",
    "        color=rainbow[cluster-1],\n",
    "        fill=True,\n",
    "        fill_color=rainbow[cluster-1],\n",
    "        fill_opacity=0.7).add_to(map_clusters)\n",
    "       \n",
    "map_clusters"
   ]
  }
 ],
 "metadata": {
  "kernelspec": {
   "display_name": "Python 3",
   "language": "python",
   "name": "python3"
  },
  "language_info": {
   "codemirror_mode": {
    "name": "ipython",
    "version": 3
   },
   "file_extension": ".py",
   "mimetype": "text/x-python",
   "name": "python",
   "nbconvert_exporter": "python",
   "pygments_lexer": "ipython3",
   "version": "3.8.0"
  }
 },
 "nbformat": 4,
 "nbformat_minor": 4
}
